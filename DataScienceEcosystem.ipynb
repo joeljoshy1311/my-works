{
 "cells": [
  {
   "cell_type": "markdown",
   "id": "b48ebffc-6f5c-4ebb-8cf0-1f8a91c1269b",
   "metadata": {},
   "source": [
    "# **Data Science ToolsS and Ecosystem**"
   ]
  },
  {
   "cell_type": "markdown",
   "id": "1a6057f6-80a7-473d-8022-01e9d1c9f326",
   "metadata": {},
   "source": [
    "## INTRODUCTION\n",
    "#### *In this notebook, Data Science Tools and Ecosystem are summarized*."
   ]
  },
  {
   "cell_type": "markdown",
   "id": "e754fead-9f17-45e2-abf3-b2691f405860",
   "metadata": {},
   "source": [
    "**Objectives:**\n",
    "- List popular languages for Data Science.\n",
    "- List commonly used libraries for Data Science.\n",
    "- List Data Science tools used in development environments.\n",
    "- Perform arithmetic operations in Python.\n",
    "- Convert time from minutes to hours in Python.\n"
   ]
  },
  {
   "cell_type": "markdown",
   "id": "213753b2-302f-44ff-a827-7a009b1c7c17",
   "metadata": {},
   "source": [
    "Some of the popular languages that Data Scientists use are:\n",
    "1. Python\n",
    "2. R\n",
    "3. SQL\n",
    "\n",
    "\n"
   ]
  },
  {
   "cell_type": "markdown",
   "id": "ec35d3a0-2999-4fea-b5c6-2a968aaae37f",
   "metadata": {},
   "source": [
    "Some of the commonly used libraries used by Data Scientists include:\n",
    "1. Pandas\n",
    "2. NumPy\n",
    "3. Matplotlib\n",
    "4. Scikit-learn\n"
   ]
  },
  {
   "cell_type": "markdown",
   "id": "a2cc11d0-c24e-43bd-8892-f87ea6f98ab2",
   "metadata": {},
   "source": [
    "| Data Science Tools |\n",
    "|--------------------|\n",
    "| Jupyter Notebooks  |\n",
    "| RStudio            |\n",
    "| Apache Zeppelin    |\n"
   ]
  },
  {
   "cell_type": "markdown",
   "id": "897f5a01-2fa0-4349-8d45-5110dcc60f1c",
   "metadata": {},
   "source": [
    "### Below are a few examples of evaluating arithmetic expressions in Python.\n"
   ]
  },
  {
   "cell_type": "code",
   "execution_count": 4,
   "id": "32c81ad7-f52e-45df-87a2-1f5448ed53d2",
   "metadata": {},
   "outputs": [
    {
     "data": {
      "text/plain": [
       "17"
      ]
     },
     "execution_count": 4,
     "metadata": {},
     "output_type": "execute_result"
    }
   ],
   "source": [
    "# This is a simple arithmetic expression to multiply then add integers\n",
    "result = (3 * 4) + 5\n",
    "result\n"
   ]
  },
  {
   "cell_type": "code",
   "execution_count": 5,
   "id": "044987f4-388a-42a8-a513-cd1e494f0282",
   "metadata": {},
   "outputs": [
    {
     "data": {
      "text/plain": [
       "3.3333333333333335"
      ]
     },
     "execution_count": 5,
     "metadata": {},
     "output_type": "execute_result"
    }
   ],
   "source": [
    "# This will convert 200 minutes to hours by dividing by 60\n",
    "hours = 200 / 60\n",
    "hours\n",
    "\n"
   ]
  },
  {
   "cell_type": "markdown",
   "id": "6c8fb03f-05d1-498d-a516-ce77044d565d",
   "metadata": {},
   "source": [
    "## Author\n",
    "Joel Joshy\n"
   ]
  },
  {
   "cell_type": "code",
   "execution_count": null,
   "id": "19e32eb7-de5e-4830-a8d4-1ed9b118233c",
   "metadata": {},
   "outputs": [],
   "source": []
  },
  {
   "cell_type": "code",
   "execution_count": null,
   "id": "0a33dd00-6207-496e-bb60-dcbbf69f2871",
   "metadata": {},
   "outputs": [],
   "source": []
  }
 ],
 "metadata": {
  "kernelspec": {
   "display_name": "Python 3 (ipykernel)",
   "language": "python",
   "name": "python3"
  },
  "language_info": {
   "codemirror_mode": {
    "name": "ipython",
    "version": 3
   },
   "file_extension": ".py",
   "mimetype": "text/x-python",
   "name": "python",
   "nbconvert_exporter": "python",
   "pygments_lexer": "ipython3",
   "version": "3.11.9"
  }
 },
 "nbformat": 4,
 "nbformat_minor": 5
}
